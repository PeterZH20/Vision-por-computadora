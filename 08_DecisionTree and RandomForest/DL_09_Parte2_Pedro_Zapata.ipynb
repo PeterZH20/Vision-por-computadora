{
 "cells": [
  {
   "cell_type": "code",
   "execution_count": 1,
   "id": "33100b34-44ed-48be-ae3e-3fce5e13b6ac",
   "metadata": {},
   "outputs": [],
   "source": [
    "# Módulos importantes\n",
    "import matplotlib.pyplot as plt\n",
    "import pandas as pd\n",
    "import numpy as np\n",
    "from sklearn.model_selection import train_test_split"
   ]
  },
  {
   "cell_type": "markdown",
   "id": "9d8fc08e-2bd0-417d-9d7d-946eb13eced2",
   "metadata": {},
   "source": [
    "# Cargando y visualizando datos"
   ]
  },
  {
   "cell_type": "code",
   "execution_count": 2,
   "id": "8b049428-cc6c-41e7-855e-c70351aa4f98",
   "metadata": {},
   "outputs": [],
   "source": [
    "# Cargamos el archivo 'datos/heart_disease.csv' en un dataframe\n",
    "df=pd.read_csv('datos/wisconsin_data.csv')"
   ]
  },
  {
   "cell_type": "code",
   "execution_count": 3,
   "id": "cefd5d69-9075-4a7e-8e32-d87994758832",
   "metadata": {},
   "outputs": [
    {
     "data": {
      "text/html": [
       "<div>\n",
       "<style scoped>\n",
       "    .dataframe tbody tr th:only-of-type {\n",
       "        vertical-align: middle;\n",
       "    }\n",
       "\n",
       "    .dataframe tbody tr th {\n",
       "        vertical-align: top;\n",
       "    }\n",
       "\n",
       "    .dataframe thead th {\n",
       "        text-align: right;\n",
       "    }\n",
       "</style>\n",
       "<table border=\"1\" class=\"dataframe\">\n",
       "  <thead>\n",
       "    <tr style=\"text-align: right;\">\n",
       "      <th></th>\n",
       "      <th>patientId</th>\n",
       "      <th>clumpThickness</th>\n",
       "      <th>cellSize</th>\n",
       "      <th>CellShape</th>\n",
       "      <th>marginalAdhesion</th>\n",
       "      <th>epithelialSize</th>\n",
       "      <th>bareNuclei</th>\n",
       "      <th>blandChromatin</th>\n",
       "      <th>normalNucleoli</th>\n",
       "      <th>mitoses</th>\n",
       "      <th>label</th>\n",
       "    </tr>\n",
       "  </thead>\n",
       "  <tbody>\n",
       "    <tr>\n",
       "      <th>0</th>\n",
       "      <td>1</td>\n",
       "      <td>5</td>\n",
       "      <td>1</td>\n",
       "      <td>1</td>\n",
       "      <td>1</td>\n",
       "      <td>2</td>\n",
       "      <td>1.0</td>\n",
       "      <td>3</td>\n",
       "      <td>1</td>\n",
       "      <td>1</td>\n",
       "      <td>0</td>\n",
       "    </tr>\n",
       "    <tr>\n",
       "      <th>1</th>\n",
       "      <td>2</td>\n",
       "      <td>5</td>\n",
       "      <td>4</td>\n",
       "      <td>4</td>\n",
       "      <td>5</td>\n",
       "      <td>7</td>\n",
       "      <td>10.0</td>\n",
       "      <td>3</td>\n",
       "      <td>2</td>\n",
       "      <td>1</td>\n",
       "      <td>0</td>\n",
       "    </tr>\n",
       "    <tr>\n",
       "      <th>2</th>\n",
       "      <td>3</td>\n",
       "      <td>3</td>\n",
       "      <td>1</td>\n",
       "      <td>1</td>\n",
       "      <td>1</td>\n",
       "      <td>2</td>\n",
       "      <td>2.0</td>\n",
       "      <td>3</td>\n",
       "      <td>1</td>\n",
       "      <td>1</td>\n",
       "      <td>0</td>\n",
       "    </tr>\n",
       "    <tr>\n",
       "      <th>3</th>\n",
       "      <td>4</td>\n",
       "      <td>6</td>\n",
       "      <td>8</td>\n",
       "      <td>8</td>\n",
       "      <td>1</td>\n",
       "      <td>3</td>\n",
       "      <td>4.0</td>\n",
       "      <td>3</td>\n",
       "      <td>7</td>\n",
       "      <td>1</td>\n",
       "      <td>0</td>\n",
       "    </tr>\n",
       "    <tr>\n",
       "      <th>4</th>\n",
       "      <td>5</td>\n",
       "      <td>4</td>\n",
       "      <td>1</td>\n",
       "      <td>1</td>\n",
       "      <td>3</td>\n",
       "      <td>2</td>\n",
       "      <td>1.0</td>\n",
       "      <td>3</td>\n",
       "      <td>1</td>\n",
       "      <td>1</td>\n",
       "      <td>0</td>\n",
       "    </tr>\n",
       "  </tbody>\n",
       "</table>\n",
       "</div>"
      ],
      "text/plain": [
       "   patientId  clumpThickness  cellSize  CellShape  marginalAdhesion  \\\n",
       "0          1               5         1          1                 1   \n",
       "1          2               5         4          4                 5   \n",
       "2          3               3         1          1                 1   \n",
       "3          4               6         8          8                 1   \n",
       "4          5               4         1          1                 3   \n",
       "\n",
       "   epithelialSize  bareNuclei  blandChromatin  normalNucleoli  mitoses  label  \n",
       "0               2         1.0               3               1        1      0  \n",
       "1               7        10.0               3               2        1      0  \n",
       "2               2         2.0               3               1        1      0  \n",
       "3               3         4.0               3               7        1      0  \n",
       "4               2         1.0               3               1        1      0  "
      ]
     },
     "execution_count": 3,
     "metadata": {},
     "output_type": "execute_result"
    }
   ],
   "source": [
    "# Mostrar los primeras filas\n",
    "df.head()"
   ]
  },
  {
   "cell_type": "code",
   "execution_count": 4,
   "id": "7e6f89e5-0e81-44ac-947e-8c939ae755e7",
   "metadata": {},
   "outputs": [
    {
     "data": {
      "text/html": [
       "<div>\n",
       "<style scoped>\n",
       "    .dataframe tbody tr th:only-of-type {\n",
       "        vertical-align: middle;\n",
       "    }\n",
       "\n",
       "    .dataframe tbody tr th {\n",
       "        vertical-align: top;\n",
       "    }\n",
       "\n",
       "    .dataframe thead th {\n",
       "        text-align: right;\n",
       "    }\n",
       "</style>\n",
       "<table border=\"1\" class=\"dataframe\">\n",
       "  <thead>\n",
       "    <tr style=\"text-align: right;\">\n",
       "      <th></th>\n",
       "      <th>patientId</th>\n",
       "      <th>clumpThickness</th>\n",
       "      <th>cellSize</th>\n",
       "      <th>CellShape</th>\n",
       "      <th>marginalAdhesion</th>\n",
       "      <th>epithelialSize</th>\n",
       "      <th>bareNuclei</th>\n",
       "      <th>blandChromatin</th>\n",
       "      <th>normalNucleoli</th>\n",
       "      <th>mitoses</th>\n",
       "      <th>label</th>\n",
       "    </tr>\n",
       "  </thead>\n",
       "  <tbody>\n",
       "    <tr>\n",
       "      <th>count</th>\n",
       "      <td>699.000000</td>\n",
       "      <td>699.000000</td>\n",
       "      <td>699.000000</td>\n",
       "      <td>699.000000</td>\n",
       "      <td>699.000000</td>\n",
       "      <td>699.000000</td>\n",
       "      <td>667.000000</td>\n",
       "      <td>699.000000</td>\n",
       "      <td>699.000000</td>\n",
       "      <td>699.000000</td>\n",
       "      <td>699.000000</td>\n",
       "    </tr>\n",
       "    <tr>\n",
       "      <th>mean</th>\n",
       "      <td>350.000000</td>\n",
       "      <td>4.417740</td>\n",
       "      <td>3.134478</td>\n",
       "      <td>3.207439</td>\n",
       "      <td>2.806867</td>\n",
       "      <td>3.216023</td>\n",
       "      <td>3.536732</td>\n",
       "      <td>3.437768</td>\n",
       "      <td>2.866953</td>\n",
       "      <td>1.589413</td>\n",
       "      <td>0.344778</td>\n",
       "    </tr>\n",
       "    <tr>\n",
       "      <th>std</th>\n",
       "      <td>201.928205</td>\n",
       "      <td>2.815741</td>\n",
       "      <td>3.051459</td>\n",
       "      <td>2.971913</td>\n",
       "      <td>2.855379</td>\n",
       "      <td>2.214300</td>\n",
       "      <td>3.683795</td>\n",
       "      <td>2.438364</td>\n",
       "      <td>3.053634</td>\n",
       "      <td>1.715078</td>\n",
       "      <td>0.475636</td>\n",
       "    </tr>\n",
       "    <tr>\n",
       "      <th>min</th>\n",
       "      <td>1.000000</td>\n",
       "      <td>1.000000</td>\n",
       "      <td>1.000000</td>\n",
       "      <td>1.000000</td>\n",
       "      <td>1.000000</td>\n",
       "      <td>1.000000</td>\n",
       "      <td>1.000000</td>\n",
       "      <td>1.000000</td>\n",
       "      <td>1.000000</td>\n",
       "      <td>1.000000</td>\n",
       "      <td>0.000000</td>\n",
       "    </tr>\n",
       "    <tr>\n",
       "      <th>25%</th>\n",
       "      <td>175.500000</td>\n",
       "      <td>2.000000</td>\n",
       "      <td>1.000000</td>\n",
       "      <td>1.000000</td>\n",
       "      <td>1.000000</td>\n",
       "      <td>2.000000</td>\n",
       "      <td>1.000000</td>\n",
       "      <td>2.000000</td>\n",
       "      <td>1.000000</td>\n",
       "      <td>1.000000</td>\n",
       "      <td>0.000000</td>\n",
       "    </tr>\n",
       "    <tr>\n",
       "      <th>50%</th>\n",
       "      <td>350.000000</td>\n",
       "      <td>4.000000</td>\n",
       "      <td>1.000000</td>\n",
       "      <td>1.000000</td>\n",
       "      <td>1.000000</td>\n",
       "      <td>2.000000</td>\n",
       "      <td>1.000000</td>\n",
       "      <td>3.000000</td>\n",
       "      <td>1.000000</td>\n",
       "      <td>1.000000</td>\n",
       "      <td>0.000000</td>\n",
       "    </tr>\n",
       "    <tr>\n",
       "      <th>75%</th>\n",
       "      <td>524.500000</td>\n",
       "      <td>6.000000</td>\n",
       "      <td>5.000000</td>\n",
       "      <td>5.000000</td>\n",
       "      <td>4.000000</td>\n",
       "      <td>4.000000</td>\n",
       "      <td>7.000000</td>\n",
       "      <td>5.000000</td>\n",
       "      <td>4.000000</td>\n",
       "      <td>1.000000</td>\n",
       "      <td>1.000000</td>\n",
       "    </tr>\n",
       "    <tr>\n",
       "      <th>max</th>\n",
       "      <td>699.000000</td>\n",
       "      <td>10.000000</td>\n",
       "      <td>10.000000</td>\n",
       "      <td>10.000000</td>\n",
       "      <td>10.000000</td>\n",
       "      <td>10.000000</td>\n",
       "      <td>10.000000</td>\n",
       "      <td>10.000000</td>\n",
       "      <td>10.000000</td>\n",
       "      <td>10.000000</td>\n",
       "      <td>1.000000</td>\n",
       "    </tr>\n",
       "  </tbody>\n",
       "</table>\n",
       "</div>"
      ],
      "text/plain": [
       "        patientId  clumpThickness    cellSize   CellShape  marginalAdhesion  \\\n",
       "count  699.000000      699.000000  699.000000  699.000000        699.000000   \n",
       "mean   350.000000        4.417740    3.134478    3.207439          2.806867   \n",
       "std    201.928205        2.815741    3.051459    2.971913          2.855379   \n",
       "min      1.000000        1.000000    1.000000    1.000000          1.000000   \n",
       "25%    175.500000        2.000000    1.000000    1.000000          1.000000   \n",
       "50%    350.000000        4.000000    1.000000    1.000000          1.000000   \n",
       "75%    524.500000        6.000000    5.000000    5.000000          4.000000   \n",
       "max    699.000000       10.000000   10.000000   10.000000         10.000000   \n",
       "\n",
       "       epithelialSize  bareNuclei  blandChromatin  normalNucleoli     mitoses  \\\n",
       "count      699.000000  667.000000      699.000000      699.000000  699.000000   \n",
       "mean         3.216023    3.536732        3.437768        2.866953    1.589413   \n",
       "std          2.214300    3.683795        2.438364        3.053634    1.715078   \n",
       "min          1.000000    1.000000        1.000000        1.000000    1.000000   \n",
       "25%          2.000000    1.000000        2.000000        1.000000    1.000000   \n",
       "50%          2.000000    1.000000        3.000000        1.000000    1.000000   \n",
       "75%          4.000000    7.000000        5.000000        4.000000    1.000000   \n",
       "max         10.000000   10.000000       10.000000       10.000000   10.000000   \n",
       "\n",
       "            label  \n",
       "count  699.000000  \n",
       "mean     0.344778  \n",
       "std      0.475636  \n",
       "min      0.000000  \n",
       "25%      0.000000  \n",
       "50%      0.000000  \n",
       "75%      1.000000  \n",
       "max      1.000000  "
      ]
     },
     "execution_count": 4,
     "metadata": {},
     "output_type": "execute_result"
    }
   ],
   "source": [
    "# Encontrar los principales valores estadísticos \n",
    "df.describe()"
   ]
  },
  {
   "cell_type": "code",
   "execution_count": 5,
   "id": "f1011daa-875d-472e-be14-afd2eb153cc5",
   "metadata": {},
   "outputs": [
    {
     "data": {
      "text/plain": [
       "Index(['patientId', 'clumpThickness', 'cellSize', 'CellShape',\n",
       "       'marginalAdhesion', 'epithelialSize', 'bareNuclei', 'blandChromatin',\n",
       "       'normalNucleoli', 'mitoses', 'label'],\n",
       "      dtype='object')"
      ]
     },
     "execution_count": 5,
     "metadata": {},
     "output_type": "execute_result"
    }
   ],
   "source": [
    "# Mostrar las columnas\n",
    "df.columns"
   ]
  },
  {
   "cell_type": "code",
   "execution_count": 6,
   "id": "fa469e8f-d296-4447-9847-84d86533cf66",
   "metadata": {},
   "outputs": [
    {
     "data": {
      "text/plain": [
       "(699, 11)"
      ]
     },
     "execution_count": 6,
     "metadata": {},
     "output_type": "execute_result"
    }
   ],
   "source": [
    "# Mostrar el número de filas y columnas\n",
    "df.shape"
   ]
  },
  {
   "cell_type": "code",
   "execution_count": 7,
   "id": "a299891e-0860-4f21-b957-614b8ae2254b",
   "metadata": {},
   "outputs": [
    {
     "data": {
      "text/html": [
       "<div>\n",
       "<style scoped>\n",
       "    .dataframe tbody tr th:only-of-type {\n",
       "        vertical-align: middle;\n",
       "    }\n",
       "\n",
       "    .dataframe tbody tr th {\n",
       "        vertical-align: top;\n",
       "    }\n",
       "\n",
       "    .dataframe thead th {\n",
       "        text-align: right;\n",
       "    }\n",
       "</style>\n",
       "<table border=\"1\" class=\"dataframe\">\n",
       "  <thead>\n",
       "    <tr style=\"text-align: right;\">\n",
       "      <th></th>\n",
       "      <th>clumpThickness</th>\n",
       "      <th>cellSize</th>\n",
       "      <th>CellShape</th>\n",
       "      <th>marginalAdhesion</th>\n",
       "      <th>epithelialSize</th>\n",
       "      <th>bareNuclei</th>\n",
       "      <th>blandChromatin</th>\n",
       "      <th>normalNucleoli</th>\n",
       "      <th>mitoses</th>\n",
       "      <th>label</th>\n",
       "    </tr>\n",
       "  </thead>\n",
       "  <tbody>\n",
       "    <tr>\n",
       "      <th>0</th>\n",
       "      <td>5</td>\n",
       "      <td>1</td>\n",
       "      <td>1</td>\n",
       "      <td>1</td>\n",
       "      <td>2</td>\n",
       "      <td>1.0</td>\n",
       "      <td>3</td>\n",
       "      <td>1</td>\n",
       "      <td>1</td>\n",
       "      <td>0</td>\n",
       "    </tr>\n",
       "    <tr>\n",
       "      <th>1</th>\n",
       "      <td>5</td>\n",
       "      <td>4</td>\n",
       "      <td>4</td>\n",
       "      <td>5</td>\n",
       "      <td>7</td>\n",
       "      <td>10.0</td>\n",
       "      <td>3</td>\n",
       "      <td>2</td>\n",
       "      <td>1</td>\n",
       "      <td>0</td>\n",
       "    </tr>\n",
       "    <tr>\n",
       "      <th>2</th>\n",
       "      <td>3</td>\n",
       "      <td>1</td>\n",
       "      <td>1</td>\n",
       "      <td>1</td>\n",
       "      <td>2</td>\n",
       "      <td>2.0</td>\n",
       "      <td>3</td>\n",
       "      <td>1</td>\n",
       "      <td>1</td>\n",
       "      <td>0</td>\n",
       "    </tr>\n",
       "    <tr>\n",
       "      <th>3</th>\n",
       "      <td>6</td>\n",
       "      <td>8</td>\n",
       "      <td>8</td>\n",
       "      <td>1</td>\n",
       "      <td>3</td>\n",
       "      <td>4.0</td>\n",
       "      <td>3</td>\n",
       "      <td>7</td>\n",
       "      <td>1</td>\n",
       "      <td>0</td>\n",
       "    </tr>\n",
       "    <tr>\n",
       "      <th>4</th>\n",
       "      <td>4</td>\n",
       "      <td>1</td>\n",
       "      <td>1</td>\n",
       "      <td>3</td>\n",
       "      <td>2</td>\n",
       "      <td>1.0</td>\n",
       "      <td>3</td>\n",
       "      <td>1</td>\n",
       "      <td>1</td>\n",
       "      <td>0</td>\n",
       "    </tr>\n",
       "  </tbody>\n",
       "</table>\n",
       "</div>"
      ],
      "text/plain": [
       "   clumpThickness  cellSize  CellShape  marginalAdhesion  epithelialSize  \\\n",
       "0               5         1          1                 1               2   \n",
       "1               5         4          4                 5               7   \n",
       "2               3         1          1                 1               2   \n",
       "3               6         8          8                 1               3   \n",
       "4               4         1          1                 3               2   \n",
       "\n",
       "   bareNuclei  blandChromatin  normalNucleoli  mitoses  label  \n",
       "0         1.0               3               1        1      0  \n",
       "1        10.0               3               2        1      0  \n",
       "2         2.0               3               1        1      0  \n",
       "3         4.0               3               7        1      0  \n",
       "4         1.0               3               1        1      0  "
      ]
     },
     "execution_count": 7,
     "metadata": {},
     "output_type": "execute_result"
    }
   ],
   "source": [
    "#Quitar la columna patiendId\n",
    "df=df.drop(columns='patientId')\n",
    "df.head()"
   ]
  },
  {
   "cell_type": "code",
   "execution_count": 8,
   "id": "ed80ea1a-a936-4dcb-995b-2f4f9bc6db64",
   "metadata": {},
   "outputs": [
    {
     "data": {
      "text/plain": [
       "clumpThickness      False\n",
       "cellSize            False\n",
       "CellShape           False\n",
       "marginalAdhesion    False\n",
       "epithelialSize      False\n",
       "bareNuclei           True\n",
       "blandChromatin      False\n",
       "normalNucleoli      False\n",
       "mitoses             False\n",
       "label               False\n",
       "dtype: bool"
      ]
     },
     "execution_count": 8,
     "metadata": {},
     "output_type": "execute_result"
    }
   ],
   "source": [
    "#De manera general checar si hay elementos 'NaN'\n",
    "df.isnull().any()"
   ]
  },
  {
   "cell_type": "code",
   "execution_count": 9,
   "id": "96f3996d-885f-4fb5-8813-ac6811e7d25d",
   "metadata": {},
   "outputs": [
    {
     "data": {
      "text/plain": [
       "clumpThickness       0\n",
       "cellSize             0\n",
       "CellShape            0\n",
       "marginalAdhesion     0\n",
       "epithelialSize       0\n",
       "bareNuclei          32\n",
       "blandChromatin       0\n",
       "normalNucleoli       0\n",
       "mitoses              0\n",
       "label                0\n",
       "dtype: int64"
      ]
     },
     "execution_count": 9,
     "metadata": {},
     "output_type": "execute_result"
    }
   ],
   "source": [
    "#Revisando cuantos elementos NaN existen\n",
    "np.isnan(df).sum()"
   ]
  },
  {
   "cell_type": "code",
   "execution_count": 10,
   "id": "63f458ab-d910-4fe3-8757-031d954aa9cb",
   "metadata": {},
   "outputs": [
    {
     "data": {
      "text/html": [
       "<div>\n",
       "<style scoped>\n",
       "    .dataframe tbody tr th:only-of-type {\n",
       "        vertical-align: middle;\n",
       "    }\n",
       "\n",
       "    .dataframe tbody tr th {\n",
       "        vertical-align: top;\n",
       "    }\n",
       "\n",
       "    .dataframe thead th {\n",
       "        text-align: right;\n",
       "    }\n",
       "</style>\n",
       "<table border=\"1\" class=\"dataframe\">\n",
       "  <thead>\n",
       "    <tr style=\"text-align: right;\">\n",
       "      <th></th>\n",
       "      <th>clumpThickness</th>\n",
       "      <th>cellSize</th>\n",
       "      <th>CellShape</th>\n",
       "      <th>marginalAdhesion</th>\n",
       "      <th>epithelialSize</th>\n",
       "      <th>bareNuclei</th>\n",
       "      <th>blandChromatin</th>\n",
       "      <th>normalNucleoli</th>\n",
       "      <th>mitoses</th>\n",
       "      <th>label</th>\n",
       "    </tr>\n",
       "  </thead>\n",
       "  <tbody>\n",
       "    <tr>\n",
       "      <th>count</th>\n",
       "      <td>667.000000</td>\n",
       "      <td>667.000000</td>\n",
       "      <td>667.000000</td>\n",
       "      <td>667.000000</td>\n",
       "      <td>667.000000</td>\n",
       "      <td>667.000000</td>\n",
       "      <td>667.000000</td>\n",
       "      <td>667.000000</td>\n",
       "      <td>667.000000</td>\n",
       "      <td>667.000000</td>\n",
       "    </tr>\n",
       "    <tr>\n",
       "      <th>mean</th>\n",
       "      <td>4.385307</td>\n",
       "      <td>3.100450</td>\n",
       "      <td>3.167916</td>\n",
       "      <td>2.811094</td>\n",
       "      <td>3.185907</td>\n",
       "      <td>3.536732</td>\n",
       "      <td>3.413793</td>\n",
       "      <td>2.796102</td>\n",
       "      <td>1.583208</td>\n",
       "      <td>0.341829</td>\n",
       "    </tr>\n",
       "    <tr>\n",
       "      <th>std</th>\n",
       "      <td>2.795851</td>\n",
       "      <td>3.051182</td>\n",
       "      <td>2.982731</td>\n",
       "      <td>2.864350</td>\n",
       "      <td>2.195733</td>\n",
       "      <td>3.683795</td>\n",
       "      <td>2.439599</td>\n",
       "      <td>3.000568</td>\n",
       "      <td>1.701497</td>\n",
       "      <td>0.474679</td>\n",
       "    </tr>\n",
       "    <tr>\n",
       "      <th>min</th>\n",
       "      <td>1.000000</td>\n",
       "      <td>1.000000</td>\n",
       "      <td>1.000000</td>\n",
       "      <td>1.000000</td>\n",
       "      <td>1.000000</td>\n",
       "      <td>1.000000</td>\n",
       "      <td>1.000000</td>\n",
       "      <td>1.000000</td>\n",
       "      <td>1.000000</td>\n",
       "      <td>0.000000</td>\n",
       "    </tr>\n",
       "    <tr>\n",
       "      <th>25%</th>\n",
       "      <td>2.000000</td>\n",
       "      <td>1.000000</td>\n",
       "      <td>1.000000</td>\n",
       "      <td>1.000000</td>\n",
       "      <td>2.000000</td>\n",
       "      <td>1.000000</td>\n",
       "      <td>2.000000</td>\n",
       "      <td>1.000000</td>\n",
       "      <td>1.000000</td>\n",
       "      <td>0.000000</td>\n",
       "    </tr>\n",
       "    <tr>\n",
       "      <th>50%</th>\n",
       "      <td>4.000000</td>\n",
       "      <td>1.000000</td>\n",
       "      <td>1.000000</td>\n",
       "      <td>1.000000</td>\n",
       "      <td>2.000000</td>\n",
       "      <td>1.000000</td>\n",
       "      <td>3.000000</td>\n",
       "      <td>1.000000</td>\n",
       "      <td>1.000000</td>\n",
       "      <td>0.000000</td>\n",
       "    </tr>\n",
       "    <tr>\n",
       "      <th>75%</th>\n",
       "      <td>6.000000</td>\n",
       "      <td>4.500000</td>\n",
       "      <td>5.000000</td>\n",
       "      <td>4.000000</td>\n",
       "      <td>4.000000</td>\n",
       "      <td>7.000000</td>\n",
       "      <td>4.000000</td>\n",
       "      <td>3.000000</td>\n",
       "      <td>1.000000</td>\n",
       "      <td>1.000000</td>\n",
       "    </tr>\n",
       "    <tr>\n",
       "      <th>max</th>\n",
       "      <td>10.000000</td>\n",
       "      <td>10.000000</td>\n",
       "      <td>10.000000</td>\n",
       "      <td>10.000000</td>\n",
       "      <td>10.000000</td>\n",
       "      <td>10.000000</td>\n",
       "      <td>10.000000</td>\n",
       "      <td>10.000000</td>\n",
       "      <td>10.000000</td>\n",
       "      <td>1.000000</td>\n",
       "    </tr>\n",
       "  </tbody>\n",
       "</table>\n",
       "</div>"
      ],
      "text/plain": [
       "       clumpThickness    cellSize   CellShape  marginalAdhesion  \\\n",
       "count      667.000000  667.000000  667.000000        667.000000   \n",
       "mean         4.385307    3.100450    3.167916          2.811094   \n",
       "std          2.795851    3.051182    2.982731          2.864350   \n",
       "min          1.000000    1.000000    1.000000          1.000000   \n",
       "25%          2.000000    1.000000    1.000000          1.000000   \n",
       "50%          4.000000    1.000000    1.000000          1.000000   \n",
       "75%          6.000000    4.500000    5.000000          4.000000   \n",
       "max         10.000000   10.000000   10.000000         10.000000   \n",
       "\n",
       "       epithelialSize  bareNuclei  blandChromatin  normalNucleoli     mitoses  \\\n",
       "count      667.000000  667.000000      667.000000      667.000000  667.000000   \n",
       "mean         3.185907    3.536732        3.413793        2.796102    1.583208   \n",
       "std          2.195733    3.683795        2.439599        3.000568    1.701497   \n",
       "min          1.000000    1.000000        1.000000        1.000000    1.000000   \n",
       "25%          2.000000    1.000000        2.000000        1.000000    1.000000   \n",
       "50%          2.000000    1.000000        3.000000        1.000000    1.000000   \n",
       "75%          4.000000    7.000000        4.000000        3.000000    1.000000   \n",
       "max         10.000000   10.000000       10.000000       10.000000   10.000000   \n",
       "\n",
       "            label  \n",
       "count  667.000000  \n",
       "mean     0.341829  \n",
       "std      0.474679  \n",
       "min      0.000000  \n",
       "25%      0.000000  \n",
       "50%      0.000000  \n",
       "75%      1.000000  \n",
       "max      1.000000  "
      ]
     },
     "execution_count": 10,
     "metadata": {},
     "output_type": "execute_result"
    }
   ],
   "source": [
    "#Quitar filas con elementos faltantes ('NaN')\n",
    "df=df.dropna()\n",
    "df.describe()"
   ]
  },
  {
   "cell_type": "code",
   "execution_count": 11,
   "id": "6246f3cb-d6ed-4a9e-846c-35bbce4c8759",
   "metadata": {},
   "outputs": [
    {
     "data": {
      "text/plain": [
       "(667, 10)"
      ]
     },
     "execution_count": 11,
     "metadata": {},
     "output_type": "execute_result"
    }
   ],
   "source": [
    "# Mostrar el número de filas y columnas sin NaN\n",
    "df.shape"
   ]
  },
  {
   "cell_type": "code",
   "execution_count": 12,
   "id": "08ac62ac-33e9-4686-833b-59d36fc19548",
   "metadata": {},
   "outputs": [
    {
     "data": {
      "text/plain": [
       "clumpThickness        int64\n",
       "cellSize              int64\n",
       "CellShape             int64\n",
       "marginalAdhesion      int64\n",
       "epithelialSize        int64\n",
       "bareNuclei          float64\n",
       "blandChromatin        int64\n",
       "normalNucleoli        int64\n",
       "mitoses               int64\n",
       "label                 int64\n",
       "dtype: object"
      ]
     },
     "execution_count": 12,
     "metadata": {},
     "output_type": "execute_result"
    }
   ],
   "source": [
    "# Mostrar el tipo de variables\n",
    "df.dtypes"
   ]
  },
  {
   "cell_type": "markdown",
   "id": "83d35e93-058e-4c31-b0f8-83d3600b102a",
   "metadata": {},
   "source": [
    "# Preparando datos para Machine Learning"
   ]
  },
  {
   "cell_type": "code",
   "execution_count": 13,
   "id": "d100a60b-d00a-4992-9a62-d9ff634bf7dc",
   "metadata": {},
   "outputs": [
    {
     "data": {
      "text/html": [
       "<div>\n",
       "<style scoped>\n",
       "    .dataframe tbody tr th:only-of-type {\n",
       "        vertical-align: middle;\n",
       "    }\n",
       "\n",
       "    .dataframe tbody tr th {\n",
       "        vertical-align: top;\n",
       "    }\n",
       "\n",
       "    .dataframe thead th {\n",
       "        text-align: right;\n",
       "    }\n",
       "</style>\n",
       "<table border=\"1\" class=\"dataframe\">\n",
       "  <thead>\n",
       "    <tr style=\"text-align: right;\">\n",
       "      <th></th>\n",
       "      <th>clumpThickness</th>\n",
       "      <th>cellSize</th>\n",
       "      <th>CellShape</th>\n",
       "      <th>marginalAdhesion</th>\n",
       "      <th>epithelialSize</th>\n",
       "      <th>bareNuclei</th>\n",
       "      <th>blandChromatin</th>\n",
       "      <th>normalNucleoli</th>\n",
       "      <th>mitoses</th>\n",
       "    </tr>\n",
       "  </thead>\n",
       "  <tbody>\n",
       "    <tr>\n",
       "      <th>0</th>\n",
       "      <td>5</td>\n",
       "      <td>1</td>\n",
       "      <td>1</td>\n",
       "      <td>1</td>\n",
       "      <td>2</td>\n",
       "      <td>1.0</td>\n",
       "      <td>3</td>\n",
       "      <td>1</td>\n",
       "      <td>1</td>\n",
       "    </tr>\n",
       "    <tr>\n",
       "      <th>1</th>\n",
       "      <td>5</td>\n",
       "      <td>4</td>\n",
       "      <td>4</td>\n",
       "      <td>5</td>\n",
       "      <td>7</td>\n",
       "      <td>10.0</td>\n",
       "      <td>3</td>\n",
       "      <td>2</td>\n",
       "      <td>1</td>\n",
       "    </tr>\n",
       "    <tr>\n",
       "      <th>2</th>\n",
       "      <td>3</td>\n",
       "      <td>1</td>\n",
       "      <td>1</td>\n",
       "      <td>1</td>\n",
       "      <td>2</td>\n",
       "      <td>2.0</td>\n",
       "      <td>3</td>\n",
       "      <td>1</td>\n",
       "      <td>1</td>\n",
       "    </tr>\n",
       "    <tr>\n",
       "      <th>3</th>\n",
       "      <td>6</td>\n",
       "      <td>8</td>\n",
       "      <td>8</td>\n",
       "      <td>1</td>\n",
       "      <td>3</td>\n",
       "      <td>4.0</td>\n",
       "      <td>3</td>\n",
       "      <td>7</td>\n",
       "      <td>1</td>\n",
       "    </tr>\n",
       "    <tr>\n",
       "      <th>4</th>\n",
       "      <td>4</td>\n",
       "      <td>1</td>\n",
       "      <td>1</td>\n",
       "      <td>3</td>\n",
       "      <td>2</td>\n",
       "      <td>1.0</td>\n",
       "      <td>3</td>\n",
       "      <td>1</td>\n",
       "      <td>1</td>\n",
       "    </tr>\n",
       "  </tbody>\n",
       "</table>\n",
       "</div>"
      ],
      "text/plain": [
       "   clumpThickness  cellSize  CellShape  marginalAdhesion  epithelialSize  \\\n",
       "0               5         1          1                 1               2   \n",
       "1               5         4          4                 5               7   \n",
       "2               3         1          1                 1               2   \n",
       "3               6         8          8                 1               3   \n",
       "4               4         1          1                 3               2   \n",
       "\n",
       "   bareNuclei  blandChromatin  normalNucleoli  mitoses  \n",
       "0         1.0               3               1        1  \n",
       "1        10.0               3               2        1  \n",
       "2         2.0               3               1        1  \n",
       "3         4.0               3               7        1  \n",
       "4         1.0               3               1        1  "
      ]
     },
     "execution_count": 13,
     "metadata": {},
     "output_type": "execute_result"
    }
   ],
   "source": [
    "# Crear X (Quitar la columna o campo de \"label\")\n",
    "X=df.drop(columns='label')\n",
    "X.head()"
   ]
  },
  {
   "cell_type": "code",
   "execution_count": 14,
   "id": "172c476f-b24f-42a9-8a32-8ca87a440513",
   "metadata": {},
   "outputs": [
    {
     "data": {
      "text/plain": [
       "0      0\n",
       "1      0\n",
       "2      0\n",
       "3      0\n",
       "4      0\n",
       "      ..\n",
       "694    0\n",
       "695    0\n",
       "696    1\n",
       "697    0\n",
       "698    0\n",
       "Name: label, Length: 667, dtype: int64"
      ]
     },
     "execution_count": 14,
     "metadata": {},
     "output_type": "execute_result"
    }
   ],
   "source": [
    "# Crear y (Valor de de la columna \"label\")\n",
    "y=df['label']\n",
    "y"
   ]
  },
  {
   "cell_type": "code",
   "execution_count": 15,
   "id": "5d324139-76be-4d4e-95b4-d7a58e073506",
   "metadata": {},
   "outputs": [],
   "source": [
    "# Dividir los datos para entrenamiento y prueba, se elige muestra test del 80%\n",
    "X_train, X_test, y_train, y_test=train_test_split (X,y, train_size=0.8)"
   ]
  },
  {
   "cell_type": "code",
   "execution_count": 16,
   "id": "f41ba265-9dd5-4a77-bf07-488fd6b443b2",
   "metadata": {},
   "outputs": [
    {
     "name": "stdout",
     "output_type": "stream",
     "text": [
      "80%  533.6\n",
      "X_train  533\n",
      "y_train  533\n",
      "X_test  134\n",
      "y_test 134\n"
     ]
    }
   ],
   "source": [
    "# Revise  el tamaño de cada muestra\n",
    "print( '80% ' ,df.shape[0]*0.8)\n",
    "print( 'X_train ' ,X_train.shape[0])\n",
    "print( 'y_train ' ,y_train.shape[0])\n",
    "print( 'X_test ' ,X_test.shape[0])\n",
    "print( 'y_test' ,y_test.shape[0])"
   ]
  },
  {
   "cell_type": "markdown",
   "id": "9f84d9ce-4e4c-434a-9d5a-7b3d27b1727f",
   "metadata": {},
   "source": [
    "# Selección de modelo y realización de entrenamiento"
   ]
  },
  {
   "cell_type": "markdown",
   "id": "1a507598-bdb4-4672-9480-9e80d2ec9aae",
   "metadata": {},
   "source": [
    "## a) DecisionTree\n",
    "### Con parámetros de afinación o tunning extras de: **min_samples_split** y **max_features**"
   ]
  },
  {
   "cell_type": "code",
   "execution_count": 17,
   "id": "92b5e068-37c7-4a9e-b5e0-503afe0d9aae",
   "metadata": {},
   "outputs": [],
   "source": [
    "## Módulos del Modelo: Arboles de decision \n",
    "from sklearn.tree import DecisionTreeClassifier, export_graphviz\n",
    "from sklearn.preprocessing import LabelEncoder\n",
    "from sklearn.metrics import accuracy_score"
   ]
  },
  {
   "cell_type": "markdown",
   "id": "b40d0ac0-cf66-4b91-9358-b44c562cccf1",
   "metadata": {},
   "source": [
    "## DecisionTree ajustado en clase (max_depth y min_samples_leaf)"
   ]
  },
  {
   "cell_type": "code",
   "execution_count": 18,
   "id": "cbc0d504-1a8e-46b8-ba8a-26d67624c51f",
   "metadata": {},
   "outputs": [],
   "source": [
    "# Ajuste de los parametros max_depth y min_samples_leaf\n",
    "scores_DT_c=[]\n",
    "for i in range (1,8) :\n",
    "    for j in range (1,8) :\n",
    "        #print('max_depth = ', i, 'min_samples_leaf=', j)\n",
    "        modelo_DT = DecisionTreeClassifier( random_state=1,  \n",
    "                                  max_depth = i,\n",
    "                                  min_samples_leaf= j)\n",
    "        modelo_DT.fit(  X_train, y_train  )\n",
    "        #print('Score=' , modelo_DT.score( X_test, y_test ))\n",
    "        #print('_')\n",
    "        scores_DT_c.append((modelo_DT.score(X_test,y_test),i,j))"
   ]
  },
  {
   "cell_type": "code",
   "execution_count": 19,
   "id": "ce4fede6-986e-41f4-9da6-99abe4bd433e",
   "metadata": {},
   "outputs": [
    {
     "data": {
      "text/plain": [
       "[(0.9701492537313433, 7, 5)]"
      ]
     },
     "execution_count": 19,
     "metadata": {},
     "output_type": "execute_result"
    }
   ],
   "source": [
    "scores_DT_c.sort(reverse=True)\n",
    "scores_DT_c[:1]\n",
    "#(Score,max_depth,min_samples_leaf)"
   ]
  },
  {
   "cell_type": "markdown",
   "id": "6b81dc93-7eb0-4154-af53-03afa28fcea9",
   "metadata": {},
   "source": [
    "## DecisionTree nuevo ajuste (min_samples_split y max_features)"
   ]
  },
  {
   "cell_type": "code",
   "execution_count": 20,
   "id": "df85c738-0b1a-4050-93d3-49680648e7d0",
   "metadata": {},
   "outputs": [],
   "source": [
    "## Se conservan los mejores max_depth y min_samples_leaf hayados previamente\n",
    "### Se itera sobre min_samples_split y max_features\n",
    "scores_DT=[]\n",
    "for i in range (2,16) :\n",
    "    for j in range (1,15) :\n",
    "        #print('min_samples_split = ', i, 'max_features=', j)\n",
    "        modelo_DT = DecisionTreeClassifier( random_state=1,  \n",
    "                                  max_depth = scores_DT_c[0][1],\n",
    "                                  min_samples_leaf= scores_DT_c[0][2],\n",
    "                                  min_samples_split=i,\n",
    "                                  max_features=j)\n",
    "        modelo_DT.fit(  X_train, y_train  )\n",
    "        #print('Score=' , modelo_DT.score( X_test, y_test ))\n",
    "        #print('__________________________________________')\n",
    "        scores_DT.append((modelo_DT.score(X_test,y_test),i,j))"
   ]
  },
  {
   "cell_type": "code",
   "execution_count": 21,
   "id": "43b59506-ad10-4e51-83c9-21a1e5cc8703",
   "metadata": {},
   "outputs": [
    {
     "data": {
      "text/plain": [
       "[(0.9776119402985075, 13, 8)]"
      ]
     },
     "execution_count": 21,
     "metadata": {},
     "output_type": "execute_result"
    }
   ],
   "source": [
    "scores_DT.sort(reverse=True)\n",
    "scores_DT[:1]\n",
    "#(Score,min_samples_split,max_features)"
   ]
  },
  {
   "cell_type": "markdown",
   "id": "0a6c7fdb-2b5b-4ce7-a3ca-c7a1a54a16b8",
   "metadata": {},
   "source": [
    "# b) RandomForestClassifier\n",
    "### Con parámetros de afinación o tunning extras de: **max_depth**, **min_samples_leaf** y **min_samples_split**"
   ]
  },
  {
   "cell_type": "code",
   "execution_count": 22,
   "id": "a4c43d57-2d34-4db6-af21-2f472e228686",
   "metadata": {},
   "outputs": [],
   "source": [
    "# Módulo RandomForestClassifier\n",
    "from sklearn.ensemble import RandomForestClassifier"
   ]
  },
  {
   "cell_type": "markdown",
   "id": "5d5641b6-1162-4221-b98d-8f94a31de553",
   "metadata": {},
   "source": [
    "## RandomForestClassifier ajustado en clase (max_depth y n_estimators)"
   ]
  },
  {
   "cell_type": "code",
   "execution_count": 23,
   "id": "10ddee5b-0103-475d-8e9e-ce41f2de9ef8",
   "metadata": {},
   "outputs": [],
   "source": [
    "scores_RF_c=[]\n",
    "for i in range (1,8) :\n",
    "    for j in range (1,8) :\n",
    "        #print('max_depth = ', i, 'n.estimators=', j)\n",
    "        modelo_RF = RandomForestClassifier( random_state=1,  \n",
    "                                  max_depth = i,\n",
    "                                  n_estimators= j)\n",
    "        modelo_RF.fit(  X_train, y_train  )\n",
    "        #print('Score=' , modelo_RF.score( X_test, y_test ))\n",
    "        #print('_')\n",
    "        scores_RF_c.append((modelo_RF.score(X_test,y_test),i,j))"
   ]
  },
  {
   "cell_type": "code",
   "execution_count": 24,
   "id": "0148a95f-9281-43e7-933a-47bd302a3042",
   "metadata": {},
   "outputs": [
    {
     "data": {
      "text/plain": [
       "[(0.9776119402985075, 7, 7)]"
      ]
     },
     "execution_count": 24,
     "metadata": {},
     "output_type": "execute_result"
    }
   ],
   "source": [
    "scores_RF_c.sort(reverse=True)\n",
    "scores_RF_c[:1]\n",
    "#(Score,max_depth,n.estimators)"
   ]
  },
  {
   "cell_type": "markdown",
   "id": "fa7ed9c6-a445-4b4c-84ba-eda4a4af13be",
   "metadata": {},
   "source": [
    "## RandomForestClassifier nuevo ajuste (max_depth,min_samples_leaf y min_samples_split)"
   ]
  },
  {
   "cell_type": "code",
   "execution_count": 25,
   "id": "1cc6220b-3dc6-4c65-9752-457d6650000f",
   "metadata": {},
   "outputs": [],
   "source": [
    "## Se conserva el mejor n_estimators hayado previamente\n",
    "## Se itera sobre max_depth, min_samples_leaf y min_samples_split\n",
    "scores_RF=[]\n",
    "for j in range (1,15):\n",
    "    for p in range (2,16):\n",
    "        #print('max_depth = ', i, 'min_samples_leaf =', j,'min_samples_split =',p)\n",
    "        modelo_RF = RandomForestClassifier( random_state=1,  \n",
    "                              max_depth = scores_RF_c[0][1],\n",
    "                              n_estimators= scores_RF_c[0][2],\n",
    "                              min_samples_leaf=j,\n",
    "                              min_samples_split=p)\n",
    "        modelo_RF.fit(X_train, y_train)\n",
    "        #print('Score=' , modelo_RF.score( X_test, y_test ))\n",
    "        #print('__________________________________________')\n",
    "        scores_RF.append((modelo_RF.score(X_test,y_test),j,p))"
   ]
  },
  {
   "cell_type": "code",
   "execution_count": 26,
   "id": "24f69fa4-aaad-447e-81d7-cd0d7e1bff7a",
   "metadata": {},
   "outputs": [
    {
     "data": {
      "text/plain": [
       "[(0.9850746268656716, 9, 15)]"
      ]
     },
     "execution_count": 26,
     "metadata": {},
     "output_type": "execute_result"
    }
   ],
   "source": [
    "scores_RF.sort(reverse=True)\n",
    "scores_RF[:1]\n",
    "#(Score,min_samples_leaf,min_samples_split)"
   ]
  },
  {
   "cell_type": "markdown",
   "id": "91482256-e6cf-4dd6-a3dd-a25dae3344fb",
   "metadata": {},
   "source": [
    "# Resultados"
   ]
  },
  {
   "cell_type": "markdown",
   "id": "edf47f70-af15-432b-a590-61b9f9f2b4ab",
   "metadata": {},
   "source": [
    "| Modelo o clasificador   |  Eficiencia | Parametros de ajuste  |\n",
    "|---                      |---          |---                    |\n",
    "|  Decision Tree_clase    |97.0149%     |max_depth=7, min_samples_leaf=5, min_samples_split=NA ,max_features=NA|\n",
    "|  Decision Tree_nuevo    |97.7611%     |max_depth=7, min_samples_leaf=5, min_samples_split=13, max_features=8|\n",
    "|  Random Forest_clase    |97.7611%     |max_depth=7, n_estimators=7, min_samples_leaf=NA, min_samples_split=NA|\n",
    "|  Random Forest_nuevo    |98.5074%             |max_depth=7, n_estimators=7, min_samples_leaf=9, min_samples_split=15|"
   ]
  },
  {
   "cell_type": "markdown",
   "id": "4b219b4d-383b-47b4-a6cc-1a553b654bec",
   "metadata": {},
   "source": [
    "# Conclusiones"
   ]
  },
  {
   "cell_type": "markdown",
   "id": "545e0dd9-5eff-4d93-a118-6d817b6bd89a",
   "metadata": {},
   "source": [
    "Los nuevos ajustes mejoraron la eficiencia en ambos modelos, tal y como se muestra en la tabla anterior. Sin embargo, la mejora no muy significativa, en el caso de DecesionTree solo hubo mejora en algunas décimas de la eficiencia, y para RandomForest la mejora fue de casi de un 1% más.\n",
    "Además, como las muestras de testeo y entrenamiento se seleccionan de manera aleatoria, cada vez que se compila toda la notebook, las eficiencias resultan diferentes. \n",
    "El hecho de agregar más parámetros de ajuste a los modelos sí mejora la eficiencia siempre y cuando dicho parámetro este optimizado y para hacerlo, hay que iterar hasta encontrar el valor óptimo. Lamentablemente, esto conlleva mucho tiempo de procesamiento y las mejoras convergen en un valor."
   ]
  }
 ],
 "metadata": {
  "kernelspec": {
   "display_name": "Python 3 (ipykernel)",
   "language": "python",
   "name": "python3"
  },
  "language_info": {
   "codemirror_mode": {
    "name": "ipython",
    "version": 3
   },
   "file_extension": ".py",
   "mimetype": "text/x-python",
   "name": "python",
   "nbconvert_exporter": "python",
   "pygments_lexer": "ipython3",
   "version": "3.11.5"
  }
 },
 "nbformat": 4,
 "nbformat_minor": 5
}
