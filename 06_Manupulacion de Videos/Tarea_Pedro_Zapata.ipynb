{
 "cells": [
  {
   "cell_type": "markdown",
   "metadata": {},
   "source": [
    "<br><br><center><h1 style=\"font-size:2em;color:#2467C0\"> Proyecto de OpenCV </h1></center>\n",
    "<br>\n",
    "<table>\n",
    "<col width=\"550\">\n",
    "<col width=\"450\">\n",
    "<tr>\n",
    "    \n",
    "    \n",
    "\n",
    "\n",
    "Hacer un efecto de capa invisible utilizando las funciones estudiadas hasta ahora para la manipulación de imágenes. \n",
    "\n",
    "\n",
    "https://youtu.be/fgetvh75NOA\n",
    "    \n",
    "    \n",
    "<br>\n",
    "</td>\n",
    "</tr>\n",
    "</table>"
   ]
  },
  {
   "cell_type": "markdown",
   "metadata": {},
   "source": [
    "# Intrucciones:\n",
    "\n",
    "1. Hacer un **efecto de capa invisible** utilizando las funciones estudiadas hasta ahora para la manipulación de imágenes. \n",
    "\n",
    "2. El video ha utilizar es: ‘videos/video_original.mp4’ \n",
    "\n",
    "\n",
    "\n",
    "\n"
   ]
  },
  {
   "cell_type": "markdown",
   "metadata": {},
   "source": [
    "# 0. Librerías básicas"
   ]
  },
  {
   "cell_type": "code",
   "execution_count": 1,
   "metadata": {},
   "outputs": [],
   "source": [
    "#Librerías básicas de esta notebook\n",
    "import matplotlib.pyplot as plt\n",
    "import numpy as np\n",
    "import cv2 as cv"
   ]
  },
  {
   "cell_type": "code",
   "execution_count": 2,
   "metadata": {},
   "outputs": [],
   "source": [
    "video=cv.VideoCapture(\"videos/video_original.mp4\")\n",
    "fraccion=0.5\n",
    "## Captura el fondo en el primer frame\n",
    "for i in range(1):\n",
    "    ret, fondo = video.read()\n",
    "\n",
    "## Lea cada cuadro de la cámara web\n",
    "while(video.isOpened()):\n",
    "    ret, frame = video.read()\n",
    "    if ret:\n",
    "        ## Convertir el espacio de color de BGR a HSV\n",
    "        img_hsv = cv.cvtColor(frame, cv.COLOR_BGR2HSV)\n",
    "\n",
    "        # Generar máscaras (rango) para detectar el color verde\n",
    "        inferior = np.array([32, 39, 81])\n",
    "        superior = np.array([70, 200,255])\n",
    "        mascara = cv.inRange(img_hsv, inferior, superior)\n",
    "\n",
    "        ## Crea una máscara invertida para segmentar el color del frame.\n",
    "        mascara_inv = cv.bitwise_not(mascara)\n",
    "\n",
    "        ## Segmenta la parte de color fuera del marco usando bit a bit y con la máscara invertida\n",
    "        seg1 = cv.bitwise_and(frame, frame, mask=mascara_inv)\n",
    "\n",
    "        # Crear una imagen que muestre píxeles de marco de fondo estáticos solo para la región enmascarada\n",
    "        seg2 = cv.bitwise_and(fondo, fondo, mask=mascara)\n",
    "\n",
    "        # Aplicando la mascara de invisivilidad\n",
    "        output = cv.addWeighted(seg1, 1, seg2, 1, 0)\n",
    "\n",
    "        #Redimensionando el video\n",
    "        columnas= int(fraccion*(output.shape[1]))\n",
    "        filas=int(fraccion*(output.shape[0]))\n",
    "        output1=cv.resize(output, (columnas, filas), cv.INTER_NEAREST )\n",
    "        cv.imshow(\"video con resize\", output1)  \n",
    "\n",
    "        if cv.waitKey(1) == ord('q'):\n",
    "            break\n",
    "    else:\n",
    "        break\n",
    "video.release()\n",
    "cv.destroyAllWindows()\n"
   ]
  }
 ],
 "metadata": {
  "kernelspec": {
   "display_name": "Python 3 (ipykernel)",
   "language": "python",
   "name": "python3"
  },
  "language_info": {
   "codemirror_mode": {
    "name": "ipython",
    "version": 3
   },
   "file_extension": ".py",
   "mimetype": "text/x-python",
   "name": "python",
   "nbconvert_exporter": "python",
   "pygments_lexer": "ipython3",
   "version": "3.11.5"
  }
 },
 "nbformat": 4,
 "nbformat_minor": 4
}
