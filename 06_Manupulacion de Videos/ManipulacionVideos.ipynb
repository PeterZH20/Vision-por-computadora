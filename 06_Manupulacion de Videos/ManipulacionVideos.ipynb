{
 "cells": [
  {
   "cell_type": "markdown",
   "metadata": {},
   "source": [
    "# 0. Librerías básicas"
   ]
  },
  {
   "cell_type": "code",
   "execution_count": 1,
   "metadata": {},
   "outputs": [],
   "source": [
    "#Librerías básicas de esta notebook\n",
    "import matplotlib.pyplot as plt\n",
    "import numpy as np\n",
    "import cv2 as cv\n"
   ]
  },
  {
   "cell_type": "markdown",
   "metadata": {},
   "source": [
    "# 1. Reproducir  el video"
   ]
  },
  {
   "cell_type": "code",
   "execution_count": 2,
   "metadata": {},
   "outputs": [],
   "source": [
    "video = cv.VideoCapture(\"videos/video_ejemplo.mp4\")\n",
    "fraccion=0.5\n",
    "\n",
    "while(video.isOpened()):\n",
    "    ret, frame = video.read()\n",
    "    #ret es una  variable booleana, true -> existe imagen , false -> No existe (final de video)\n",
    "    if ret:\n",
    "        #cv.imshow(\"video original\", frame)  \n",
    "        img = frame.copy()\n",
    "        columnas= int(fraccion*(img.shape[1]))\n",
    "        filas=int(fraccion*(img.shape[0]))\n",
    "        img_r=cv.resize(img, (columnas, filas), cv.INTER_NEAREST )\n",
    "        cv.imshow(\"video con resize\", img_r)  \n",
    "        if cv.waitKey(1) & 0xFF == ord('q'):\n",
    "            break\n",
    "    else:\n",
    "        break\n",
    "video.release()\n",
    "cv.destroyAllWindows()"
   ]
  },
  {
   "cell_type": "markdown",
   "metadata": {},
   "source": [
    "# 2. Cambiar el tamaño y tiempo de reproducción"
   ]
  },
  {
   "cell_type": "code",
   "execution_count": 3,
   "metadata": {},
   "outputs": [],
   "source": [
    "import time\n",
    "video = cv.VideoCapture(\"videos/video_ejemplo.mp4\")\n",
    "fraccion=0.5\n",
    "\n",
    "while(video.isOpened()):\n",
    "    time.sleep(0.005)\n",
    "    ret, frame = video.read()\n",
    "    #ret es una  variable booleana, true -> existe imagen , false -> No existe (final de video)\n",
    "    if ret:\n",
    "        #cv.imshow(\"video original\", frame)  \n",
    "        img = frame.copy()\n",
    "        columnas= int(fraccion*(img.shape[1]))\n",
    "        filas=int(fraccion*(img.shape[0]))\n",
    "        img_r=cv.resize(img, (columnas, filas), cv.INTER_NEAREST )\n",
    "        cv.imshow(\"video con resize\", img_r)  \n",
    "        if cv.waitKey(1) & 0xFF == ord('q'):\n",
    "            break\n",
    "    else:\n",
    "        break\n",
    "video.release()\n",
    "cv.destroyAllWindows()\n",
    "\n"
   ]
  },
  {
   "cell_type": "markdown",
   "metadata": {},
   "source": [
    "# 3. Guardar los primeros N frames"
   ]
  },
  {
   "cell_type": "code",
   "execution_count": 4,
   "metadata": {},
   "outputs": [],
   "source": [
    "video = cv.VideoCapture(\"videos/video_ejemplo.mp4\")\n",
    "i=0\n",
    "while(video.isOpened() and i<10):\n",
    "    ret, frame = video.read()\n",
    "    #ret es una  variable booleana, true -> existe imagen , false -> No existe (final de video)\n",
    "    if ret:\n",
    "        cv.imshow(\"video original\", frame)  \n",
    "        img = frame.copy()\n",
    "        cv.imwrite('capturas/imagen_' + str(i)+ '.jpg', img)\n",
    "        i=i+1\n",
    "        if cv.waitKey(1) & 0xFF == ord('q'):\n",
    "            break\n",
    "    else:\n",
    "        break\n",
    "video.release()\n",
    "cv.destroyAllWindows()\n"
   ]
  },
  {
   "cell_type": "markdown",
   "metadata": {},
   "source": [
    "# 4. Cambiar a escala de grises"
   ]
  },
  {
   "cell_type": "code",
   "execution_count": 5,
   "metadata": {},
   "outputs": [],
   "source": [
    "#Definir la función \n",
    "video = cv.VideoCapture(\"videos/video_ejemplo.mp4\")\n",
    "fraccion=0.5\n",
    "\n",
    "while(video.isOpened()):\n",
    "    ret, frame = video.read()\n",
    "    #ret es una  variable booleana, true -> existe imagen , false -> No existe (final de video)\n",
    "    if ret:\n",
    "        #cv.imshow(\"video original\", frame)  \n",
    "        img = frame.copy()\n",
    "        columnas= int(fraccion*(img.shape[1]))\n",
    "        filas=int(fraccion*(img.shape[0]))\n",
    "        img_r=cv.resize(img, (columnas, filas), cv.INTER_NEAREST )\n",
    "        img_gris=cv.cvtColor(img_r, cv.COLOR_BGR2GRAY)\n",
    "        cv.imshow(\"video chiquito\", img_r)  \n",
    "        cv.imshow(\"video sad\", img_gris) \n",
    "        if cv.waitKey(1) & 0xFF == ord('q'):\n",
    "            break\n",
    "    else:\n",
    "        break\n",
    "video.release()\n",
    "cv.destroyAllWindows()"
   ]
  },
  {
   "cell_type": "markdown",
   "metadata": {},
   "source": [
    "# 5. Video binarizado (blanco y negro)"
   ]
  },
  {
   "cell_type": "code",
   "execution_count": 6,
   "metadata": {},
   "outputs": [],
   "source": [
    "#Definir la función de binarización\n",
    "import time\n",
    "video = cv.VideoCapture(\"videos/video_ejemplo.mp4\")\n",
    "fraccion=0.5\n",
    "\n",
    "while(video.isOpened()):\n",
    "    time.sleep(0.005)\n",
    "    ret, frame = video.read()\n",
    "    #ret es una  variable booleana, true -> existe imagen , false -> No existe (final de video)\n",
    "    if ret:\n",
    "        #cv.imshow(\"video original\", frame)  \n",
    "        img = frame.copy()\n",
    "        columnas= int(fraccion*(img.shape[1]))\n",
    "        filas=int(fraccion*(img.shape[0]))\n",
    "        img_r=cv.resize(img, (columnas, filas), cv.INTER_NEAREST )\n",
    "        img_gris=cv.cvtColor(img_r, cv.COLOR_BGR2GRAY)\n",
    "        _,img_bin=cv.threshold(img_gris, 180,255,cv.THRESH_BINARY)\n",
    "        cv.imshow(\"video chiquito\", img_r)  \n",
    "        cv.imshow(\"video sad\", img_gris) \n",
    "        cv.imshow(\"video binario\", img_bin) \n",
    "        if cv.waitKey(1) & 0xFF == ord('q'):\n",
    "            break\n",
    "    else:\n",
    "        break\n",
    "video.release()\n",
    "cv.destroyAllWindows()\n"
   ]
  },
  {
   "cell_type": "markdown",
   "metadata": {},
   "source": [
    "# 6. Video binarizado (blanco y negro) y con la mitad de tamaño"
   ]
  },
  {
   "cell_type": "code",
   "execution_count": 24,
   "metadata": {},
   "outputs": [],
   "source": [
    "#Definir la función de cambio de tamaño\n",
    "def img_resize(fraccion,img):\n",
    "    columnas= int(fraccion*(img.shape[1]))\n",
    "    filas=int(fraccion*(img.shape[0]))\n",
    "    img_resize=cv.resize(img, (columnas, filas), cv.INTER_NEAREST )\n",
    "\n",
    "    return img_resize"
   ]
  },
  {
   "cell_type": "code",
   "execution_count": 26,
   "metadata": {},
   "outputs": [],
   "source": [
    "import time\n",
    "#el 0 es para detectar la WebCam\n",
    "video = cv.VideoCapture(0)\n",
    "\n",
    "while(video.isOpened()):\n",
    "    #time.sleep(0.005)\n",
    "    ret, frame = video.read()\n",
    "    #ret es una  variable booleana, true -> existe imagen , false -> No existe (final de video)\n",
    "    if ret:\n",
    "        #cv.imshow(\"video original\", frame)  \n",
    "        img = frame.copy()\n",
    "        img_r=img_resize(0.5, img) \n",
    "        img_gris=cv.cvtColor(img_r, cv.COLOR_BGR2GRAY)\n",
    "        _,img_bin=cv.threshold(img_gris, 180,255,cv.THRESH_BINARY)\n",
    "        cv.imshow(\"video chiquito\", img_r)  \n",
    "        cv.imshow(\"video sad\", img_gris) \n",
    "        cv.imshow(\"video binario\", img_bin) \n",
    "        if cv.waitKey(1) & 0xFF == ord('q'):\n",
    "            break\n",
    "    else:\n",
    "        break\n",
    "video.release()\n",
    "cv.destroyAllWindows()"
   ]
  }
 ],
 "metadata": {
  "kernelspec": {
   "display_name": "Python 3 (ipykernel)",
   "language": "python",
   "name": "python3"
  },
  "language_info": {
   "codemirror_mode": {
    "name": "ipython",
    "version": 3
   },
   "file_extension": ".py",
   "mimetype": "text/x-python",
   "name": "python",
   "nbconvert_exporter": "python",
   "pygments_lexer": "ipython3",
   "version": "3.11.5"
  }
 },
 "nbformat": 4,
 "nbformat_minor": 4
}
