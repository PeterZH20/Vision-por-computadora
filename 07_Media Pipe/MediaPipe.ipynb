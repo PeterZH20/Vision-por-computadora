{
 "cells": [
  {
   "cell_type": "markdown",
   "metadata": {},
   "source": [
    "# 0. Librerías básicas"
   ]
  },
  {
   "cell_type": "code",
   "execution_count": 1,
   "metadata": {},
   "outputs": [],
   "source": [
    "#Librerías básicas de esta notebook\n",
    "import matplotlib.pyplot as plt\n",
    "import numpy as np\n",
    "import cv2 as cv"
   ]
  },
  {
   "cell_type": "markdown",
   "metadata": {},
   "source": [
    "#  Media pipe\n"
   ]
  },
  {
   "cell_type": "markdown",
   "metadata": {},
   "source": [
    "# 1. FaceMesh"
   ]
  },
  {
   "cell_type": "code",
   "execution_count": 2,
   "metadata": {},
   "outputs": [],
   "source": [
    "import cv2\n",
    "import mediapipe as mp\n",
    "\n",
    "cap=cv2.VideoCapture(0)\n",
    "\n",
    "facemesh = mp.solutions.face_mesh\n",
    "face = facemesh.FaceMesh(static_image_mode=False, min_tracking_confidence=0.6,min_detection_confidence=0.6)\n",
    "draw = mp.solutions.drawing_utils\n",
    "\n",
    "while True:\n",
    "    ret , frame = cap.read()\n",
    "    rgb = cv2.cvtColor(frame , cv2.COLOR_BGR2RGB)\n",
    "    results = face.process(rgb)\n",
    "    if results.multi_face_landmarks:\n",
    "        for i in results.multi_face_landmarks:\n",
    "            draw.draw_landmarks(frame,i,facemesh.FACEMESH_CONTOURS ,landmark_drawing_spec=draw.DrawingSpec(color=(255,0,0),circle_radius=1,thickness=1))\n",
    "    cv2.imshow('Face Mesh Window', frame)\n",
    "    if cv2.waitKey(1) & 0xFF == ord('q'):\n",
    "        break\n",
    "cap.release()\n",
    "cv2.destroyAllWindows()"
   ]
  },
  {
   "cell_type": "markdown",
   "metadata": {},
   "source": [
    "# 2. Hand Detection"
   ]
  },
  {
   "cell_type": "code",
   "execution_count": 3,
   "metadata": {},
   "outputs": [],
   "source": [
    "\n",
    "import cv2\n",
    "import mediapipe as mp\n",
    "\n",
    "drawing = mp.solutions.drawing_utils\n",
    "hands=mp.solutions.hands\n",
    "h=hands.Hands()\n",
    "cap=cv2.VideoCapture(0)\n",
    "\n",
    "while True:\n",
    "    ret , frame=cap.read()\n",
    "    image = cv2.cvtColor(cv2.flip(frame,1),cv2.COLOR_BGR2RGB)\n",
    "    results=h.process(image)\n",
    "    image=cv2.cvtColor(image,cv2.COLOR_RGB2BGR)\n",
    "    if results.multi_hand_landmarks:\n",
    "        for h_landmark in results.multi_hand_landmarks:\n",
    "            drawing.draw_landmarks(image,h_landmark,hands.HAND_CONNECTIONS,landmark_drawing_spec=drawing.DrawingSpec(color=(0,0,0),circle_radius=4,thickness=3),connection_drawing_spec=drawing.DrawingSpec(color=(255,255,255),thickness=5) )\n",
    "    cv2.imshow(\"Hand Tracking\",image)\n",
    "    if cv2.waitKey(1) & 0xFF==ord('q'):\n",
    "        break\n",
    "cap.release()\n",
    "cv2.destroyAllWindows()"
   ]
  },
  {
   "cell_type": "markdown",
   "metadata": {},
   "source": [
    "# 3. Pose Detection"
   ]
  },
  {
   "cell_type": "code",
   "execution_count": 4,
   "metadata": {},
   "outputs": [],
   "source": [
    "import cv2\n",
    "import mediapipe as mp\n",
    "\n",
    "drawing = mp.solutions.drawing_utils\n",
    "pose=mp.solutions.pose\n",
    "p=pose.Pose()\n",
    "cap=cv2.VideoCapture(0)\n",
    "\n",
    "while True:\n",
    "    ret , frame=cap.read()\n",
    "    #frame = cv2.resize(frame , (600,600))\n",
    "    image = cv2.cvtColor(frame,cv2.COLOR_BGR2RGB)\n",
    "    results=p.process(image)\n",
    "    image=cv2.cvtColor(image,cv2.COLOR_RGB2BGR)\n",
    "    #print(results.pose_landmarks)\n",
    "    if results.pose_landmarks:\n",
    "\n",
    "     drawing.draw_landmarks(image,results.pose_landmarks,pose.POSE_CONNECTIONS)\n",
    "    cv2.imshow(\"POSE TRACKING\",image)\n",
    "    if cv2.waitKey(1) & 0xFF==ord('q'):\n",
    "        break\n",
    "cap.release()\n",
    "cv2.destroyAllWindows()"
   ]
  },
  {
   "cell_type": "markdown",
   "metadata": {},
   "source": [
    "# 4. Holistic"
   ]
  },
  {
   "cell_type": "code",
   "execution_count": 5,
   "metadata": {},
   "outputs": [],
   "source": [
    "import cv2\n",
    "import mediapipe as mp\n",
    "\n",
    "drawing = mp.solutions.drawing_utils\n",
    "holistic=mp.solutions.holistic\n",
    "h=holistic.Holistic(min_tracking_confidence=0.6, min_detection_confidence=0.6)\n",
    "cap=cv2.VideoCapture(0)\n",
    "\n",
    "while True:\n",
    "    ret , frame=cap.read()\n",
    "    frame = cv2.resize(frame, (1000, 800))\n",
    "    image = cv2.cvtColor(cv2.flip(frame,1),cv2.COLOR_BGR2RGB)\n",
    "    results=h.process(image)\n",
    "    image=cv2.cvtColor(image,cv2.COLOR_RGB2BGR)\n",
    "    drawing.draw_landmarks(image,results.face_landmarks,holistic.FACEMESH_CONTOURS)\n",
    "    drawing.draw_landmarks(image,results.left_hand_landmarks,holistic.HAND_CONNECTIONS)\n",
    "    drawing.draw_landmarks(image,results.right_hand_landmarks,holistic.HAND_CONNECTIONS)\n",
    "    drawing.draw_landmarks(image,results.pose_landmarks,holistic.POSE_CONNECTIONS)\n",
    "    cv2.imshow(\"Hand Tracking\", image)\n",
    "    if cv2.waitKey(1) & 0xFF == ord('q'):\n",
    "        break\n",
    "cap.release()\n",
    "cv2.destroyAllWindows()\n",
    "\n"
   ]
  }
 ],
 "metadata": {
  "kernelspec": {
   "display_name": "Python 3 (ipykernel)",
   "language": "python",
   "name": "python3"
  },
  "language_info": {
   "codemirror_mode": {
    "name": "ipython",
    "version": 3
   },
   "file_extension": ".py",
   "mimetype": "text/x-python",
   "name": "python",
   "nbconvert_exporter": "python",
   "pygments_lexer": "ipython3",
   "version": "3.11.5"
  }
 },
 "nbformat": 4,
 "nbformat_minor": 4
}
